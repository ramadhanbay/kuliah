{
  "nbformat": 4,
  "nbformat_minor": 0,
  "metadata": {
    "colab": {
      "provenance": [],
      "collapsed_sections": [
        "QZeRPCTI39ry",
        "VpOJWyQwUUvl",
        "8pCewfBqzOLF",
        "m5a4eOFe_lGD",
        "Ii9PpvxJBOvW",
        "npPcuCtMzWpP",
        "tv8A8VG4zhAo"
      ],
      "authorship_tag": "ABX9TyPtGQH4Wix0pUcMoxWQu8aq",
      "include_colab_link": true
    },
    "kernelspec": {
      "name": "python3",
      "display_name": "Python 3"
    },
    "language_info": {
      "name": "python"
    }
  },
  "cells": [
    {
      "cell_type": "markdown",
      "metadata": {
        "id": "view-in-github",
        "colab_type": "text"
      },
      "source": [
        "<a href=\"https://colab.research.google.com/github/ramadhanbay/kuliah/blob/main/UTS_SinarBayuRamadhan.ipynb\" target=\"_parent\"><img src=\"https://colab.research.google.com/assets/colab-badge.svg\" alt=\"Open In Colab\"/></a>"
      ]
    },
    {
      "cell_type": "markdown",
      "source": [
        "# **UTS Machine Learning**\n",
        "\n",
        "Sinar Bayu Ramadhan (01679220015@student.uph.edu)\n",
        "\n",
        "Contoh kasus menggunakan google collab untuk Random Forest menggunakan data mobil bekas yang diambil dari https://atapdata.ai/dataset/231/harga_mobil_bekas"
      ],
      "metadata": {
        "id": "BEW0defNT_Ar"
      }
    },
    {
      "cell_type": "markdown",
      "source": [
        "## install dan import"
      ],
      "metadata": {
        "id": "QZeRPCTI39ry"
      }
    },
    {
      "cell_type": "code",
      "source": [
        "%pip install category_encoders"
      ],
      "metadata": {
        "colab": {
          "base_uri": "https://localhost:8080/"
        },
        "id": "Uv0bIqzrD_LG",
        "outputId": "0dcce50a-542f-4f2e-86a7-050809b2c267"
      },
      "execution_count": 284,
      "outputs": [
        {
          "output_type": "stream",
          "name": "stdout",
          "text": [
            "Looking in indexes: https://pypi.org/simple, https://us-python.pkg.dev/colab-wheels/public/simple/\n",
            "Requirement already satisfied: category_encoders in /usr/local/lib/python3.9/dist-packages (2.6.0)\n",
            "Requirement already satisfied: pandas>=1.0.5 in /usr/local/lib/python3.9/dist-packages (from category_encoders) (1.4.4)\n",
            "Requirement already satisfied: statsmodels>=0.9.0 in /usr/local/lib/python3.9/dist-packages (from category_encoders) (0.13.5)\n",
            "Requirement already satisfied: scipy>=1.0.0 in /usr/local/lib/python3.9/dist-packages (from category_encoders) (1.10.1)\n",
            "Requirement already satisfied: patsy>=0.5.1 in /usr/local/lib/python3.9/dist-packages (from category_encoders) (0.5.3)\n",
            "Requirement already satisfied: numpy>=1.14.0 in /usr/local/lib/python3.9/dist-packages (from category_encoders) (1.22.4)\n",
            "Requirement already satisfied: scikit-learn>=0.20.0 in /usr/local/lib/python3.9/dist-packages (from category_encoders) (1.2.2)\n",
            "Requirement already satisfied: python-dateutil>=2.8.1 in /usr/local/lib/python3.9/dist-packages (from pandas>=1.0.5->category_encoders) (2.8.2)\n",
            "Requirement already satisfied: pytz>=2020.1 in /usr/local/lib/python3.9/dist-packages (from pandas>=1.0.5->category_encoders) (2022.7.1)\n",
            "Requirement already satisfied: six in /usr/local/lib/python3.9/dist-packages (from patsy>=0.5.1->category_encoders) (1.15.0)\n",
            "Requirement already satisfied: threadpoolctl>=2.0.0 in /usr/local/lib/python3.9/dist-packages (from scikit-learn>=0.20.0->category_encoders) (3.1.0)\n",
            "Requirement already satisfied: joblib>=1.1.1 in /usr/local/lib/python3.9/dist-packages (from scikit-learn>=0.20.0->category_encoders) (1.1.1)\n",
            "Requirement already satisfied: packaging>=21.3 in /usr/local/lib/python3.9/dist-packages (from statsmodels>=0.9.0->category_encoders) (23.0)\n"
          ]
        }
      ]
    },
    {
      "cell_type": "code",
      "source": [
        "import pandas as pd\n",
        "from sklearn.model_selection import train_test_split\n",
        "from sklearn.feature_selection import mutual_info_classif\n",
        "from sklearn.preprocessing import StandardScaler\n",
        "from sklearn.ensemble import RandomForestRegressor\n",
        "from sklearn.neighbors import KNeighborsRegressor\n",
        "from sklearn.metrics import accuracy_score, confusion_matrix, mean_absolute_error, mean_squared_error, explained_variance_score\n",
        "import category_encoders as ce\n",
        "import matplotlib.pyplot as plt\n",
        "import numpy as np\n",
        "from prettytable import PrettyTable\n",
        "import math"
      ],
      "metadata": {
        "id": "w7r9Lw4L4HPZ"
      },
      "execution_count": 285,
      "outputs": []
    },
    {
      "cell_type": "markdown",
      "source": [
        "## preparation data"
      ],
      "metadata": {
        "id": "VpOJWyQwUUvl"
      }
    },
    {
      "cell_type": "code",
      "execution_count": 286,
      "metadata": {
        "colab": {
          "base_uri": "https://localhost:8080/",
          "height": 416
        },
        "id": "z-OrCj1dRAWg",
        "outputId": "beb788e9-7b7a-4f35-d764-c76e03afbcc2"
      },
      "outputs": [
        {
          "output_type": "execute_result",
          "data": {
            "text/plain": [
              "      id                                        title        band  \\\n",
              "0  42431                2014 BMW 320i 2.0 Sport Sedan         BMW   \n",
              "1  24089  2015 Mitsubishi Pajero Sport 2.5 Exceed SUV  Mitsubishi   \n",
              "2  33485             2016 Daihatsu Gran Max 1.3 D Van    Daihatsu   \n",
              "\n",
              "          model variant  fuelType bodytype tramsmission seating  year  milage  \\\n",
              "0          320i   Sport  Pertamax    Sedan    Automatic       5  2014   32500   \n",
              "1  Pajero Sport  Exceed     Solar      SUV    Automatic       7  2015   41000   \n",
              "2      Gran Max       D  Pertamax      Van       Manual       8  2016   58000   \n",
              "\n",
              "    color                                              image      place  \\\n",
              "0   Putih  https://img3.icarcdn.com/0782846/thumb-l_used-...  Tangerang   \n",
              "1   Putih  https://img2.icarcdn.com/3144016/thumb-l_used-...     Gresik   \n",
              "2  Silver  https://img1.icarcdn.com/7813926/thumb-l_used-...     Blitar   \n",
              "\n",
              "       price  \n",
              "0  365000000  \n",
              "1  305000000  \n",
              "2  102500000  "
            ],
            "text/html": [
              "\n",
              "  <div id=\"df-fa22dbe1-96af-40de-a4a0-3e095d05f5d2\">\n",
              "    <div class=\"colab-df-container\">\n",
              "      <div>\n",
              "<style scoped>\n",
              "    .dataframe tbody tr th:only-of-type {\n",
              "        vertical-align: middle;\n",
              "    }\n",
              "\n",
              "    .dataframe tbody tr th {\n",
              "        vertical-align: top;\n",
              "    }\n",
              "\n",
              "    .dataframe thead th {\n",
              "        text-align: right;\n",
              "    }\n",
              "</style>\n",
              "<table border=\"1\" class=\"dataframe\">\n",
              "  <thead>\n",
              "    <tr style=\"text-align: right;\">\n",
              "      <th></th>\n",
              "      <th>id</th>\n",
              "      <th>title</th>\n",
              "      <th>band</th>\n",
              "      <th>model</th>\n",
              "      <th>variant</th>\n",
              "      <th>fuelType</th>\n",
              "      <th>bodytype</th>\n",
              "      <th>tramsmission</th>\n",
              "      <th>seating</th>\n",
              "      <th>year</th>\n",
              "      <th>milage</th>\n",
              "      <th>color</th>\n",
              "      <th>image</th>\n",
              "      <th>place</th>\n",
              "      <th>price</th>\n",
              "    </tr>\n",
              "  </thead>\n",
              "  <tbody>\n",
              "    <tr>\n",
              "      <th>0</th>\n",
              "      <td>42431</td>\n",
              "      <td>2014 BMW 320i 2.0 Sport Sedan</td>\n",
              "      <td>BMW</td>\n",
              "      <td>320i</td>\n",
              "      <td>Sport</td>\n",
              "      <td>Pertamax</td>\n",
              "      <td>Sedan</td>\n",
              "      <td>Automatic</td>\n",
              "      <td>5</td>\n",
              "      <td>2014</td>\n",
              "      <td>32500</td>\n",
              "      <td>Putih</td>\n",
              "      <td>https://img3.icarcdn.com/0782846/thumb-l_used-...</td>\n",
              "      <td>Tangerang</td>\n",
              "      <td>365000000</td>\n",
              "    </tr>\n",
              "    <tr>\n",
              "      <th>1</th>\n",
              "      <td>24089</td>\n",
              "      <td>2015 Mitsubishi Pajero Sport 2.5 Exceed SUV</td>\n",
              "      <td>Mitsubishi</td>\n",
              "      <td>Pajero Sport</td>\n",
              "      <td>Exceed</td>\n",
              "      <td>Solar</td>\n",
              "      <td>SUV</td>\n",
              "      <td>Automatic</td>\n",
              "      <td>7</td>\n",
              "      <td>2015</td>\n",
              "      <td>41000</td>\n",
              "      <td>Putih</td>\n",
              "      <td>https://img2.icarcdn.com/3144016/thumb-l_used-...</td>\n",
              "      <td>Gresik</td>\n",
              "      <td>305000000</td>\n",
              "    </tr>\n",
              "    <tr>\n",
              "      <th>2</th>\n",
              "      <td>33485</td>\n",
              "      <td>2016 Daihatsu Gran Max 1.3 D Van</td>\n",
              "      <td>Daihatsu</td>\n",
              "      <td>Gran Max</td>\n",
              "      <td>D</td>\n",
              "      <td>Pertamax</td>\n",
              "      <td>Van</td>\n",
              "      <td>Manual</td>\n",
              "      <td>8</td>\n",
              "      <td>2016</td>\n",
              "      <td>58000</td>\n",
              "      <td>Silver</td>\n",
              "      <td>https://img1.icarcdn.com/7813926/thumb-l_used-...</td>\n",
              "      <td>Blitar</td>\n",
              "      <td>102500000</td>\n",
              "    </tr>\n",
              "  </tbody>\n",
              "</table>\n",
              "</div>\n",
              "      <button class=\"colab-df-convert\" onclick=\"convertToInteractive('df-fa22dbe1-96af-40de-a4a0-3e095d05f5d2')\"\n",
              "              title=\"Convert this dataframe to an interactive table.\"\n",
              "              style=\"display:none;\">\n",
              "        \n",
              "  <svg xmlns=\"http://www.w3.org/2000/svg\" height=\"24px\"viewBox=\"0 0 24 24\"\n",
              "       width=\"24px\">\n",
              "    <path d=\"M0 0h24v24H0V0z\" fill=\"none\"/>\n",
              "    <path d=\"M18.56 5.44l.94 2.06.94-2.06 2.06-.94-2.06-.94-.94-2.06-.94 2.06-2.06.94zm-11 1L8.5 8.5l.94-2.06 2.06-.94-2.06-.94L8.5 2.5l-.94 2.06-2.06.94zm10 10l.94 2.06.94-2.06 2.06-.94-2.06-.94-.94-2.06-.94 2.06-2.06.94z\"/><path d=\"M17.41 7.96l-1.37-1.37c-.4-.4-.92-.59-1.43-.59-.52 0-1.04.2-1.43.59L10.3 9.45l-7.72 7.72c-.78.78-.78 2.05 0 2.83L4 21.41c.39.39.9.59 1.41.59.51 0 1.02-.2 1.41-.59l7.78-7.78 2.81-2.81c.8-.78.8-2.07 0-2.86zM5.41 20L4 18.59l7.72-7.72 1.47 1.35L5.41 20z\"/>\n",
              "  </svg>\n",
              "      </button>\n",
              "      \n",
              "  <style>\n",
              "    .colab-df-container {\n",
              "      display:flex;\n",
              "      flex-wrap:wrap;\n",
              "      gap: 12px;\n",
              "    }\n",
              "\n",
              "    .colab-df-convert {\n",
              "      background-color: #E8F0FE;\n",
              "      border: none;\n",
              "      border-radius: 50%;\n",
              "      cursor: pointer;\n",
              "      display: none;\n",
              "      fill: #1967D2;\n",
              "      height: 32px;\n",
              "      padding: 0 0 0 0;\n",
              "      width: 32px;\n",
              "    }\n",
              "\n",
              "    .colab-df-convert:hover {\n",
              "      background-color: #E2EBFA;\n",
              "      box-shadow: 0px 1px 2px rgba(60, 64, 67, 0.3), 0px 1px 3px 1px rgba(60, 64, 67, 0.15);\n",
              "      fill: #174EA6;\n",
              "    }\n",
              "\n",
              "    [theme=dark] .colab-df-convert {\n",
              "      background-color: #3B4455;\n",
              "      fill: #D2E3FC;\n",
              "    }\n",
              "\n",
              "    [theme=dark] .colab-df-convert:hover {\n",
              "      background-color: #434B5C;\n",
              "      box-shadow: 0px 1px 3px 1px rgba(0, 0, 0, 0.15);\n",
              "      filter: drop-shadow(0px 1px 2px rgba(0, 0, 0, 0.3));\n",
              "      fill: #FFFFFF;\n",
              "    }\n",
              "  </style>\n",
              "\n",
              "      <script>\n",
              "        const buttonEl =\n",
              "          document.querySelector('#df-fa22dbe1-96af-40de-a4a0-3e095d05f5d2 button.colab-df-convert');\n",
              "        buttonEl.style.display =\n",
              "          google.colab.kernel.accessAllowed ? 'block' : 'none';\n",
              "\n",
              "        async function convertToInteractive(key) {\n",
              "          const element = document.querySelector('#df-fa22dbe1-96af-40de-a4a0-3e095d05f5d2');\n",
              "          const dataTable =\n",
              "            await google.colab.kernel.invokeFunction('convertToInteractive',\n",
              "                                                     [key], {});\n",
              "          if (!dataTable) return;\n",
              "\n",
              "          const docLinkHtml = 'Like what you see? Visit the ' +\n",
              "            '<a target=\"_blank\" href=https://colab.research.google.com/notebooks/data_table.ipynb>data table notebook</a>'\n",
              "            + ' to learn more about interactive tables.';\n",
              "          element.innerHTML = '';\n",
              "          dataTable['output_type'] = 'display_data';\n",
              "          await google.colab.output.renderOutput(dataTable, element);\n",
              "          const docLink = document.createElement('div');\n",
              "          docLink.innerHTML = docLinkHtml;\n",
              "          element.appendChild(docLink);\n",
              "        }\n",
              "      </script>\n",
              "    </div>\n",
              "  </div>\n",
              "  "
            ]
          },
          "metadata": {},
          "execution_count": 286
        }
      ],
      "source": [
        "url_train = 'https://raw.githubusercontent.com/ramadhanbay/kuliah/main/dataset/cars.csv'\n",
        "data_train = pd.read_csv(url_train, low_memory=False)\n",
        "data_train.head(3)"
      ]
    },
    {
      "cell_type": "code",
      "source": [
        "# drop unnecessary columns, these columns won't be useful in analysis and prediction\n",
        "data_train = data_train.drop(['id','title','image'], axis=1)\n",
        "print('The shape of our features is:', data_train.shape)\n"
      ],
      "metadata": {
        "colab": {
          "base_uri": "https://localhost:8080/"
        },
        "id": "Z6eYx4U-VUV6",
        "outputId": "250c2d74-24f5-4fbf-d9db-e8380ab2312a"
      },
      "execution_count": 287,
      "outputs": [
        {
          "output_type": "stream",
          "name": "stdout",
          "text": [
            "The shape of our features is: (89585, 12)\n"
          ]
        }
      ]
    },
    {
      "cell_type": "code",
      "source": [
        "data_train.isnull().sum()"
      ],
      "metadata": {
        "colab": {
          "base_uri": "https://localhost:8080/"
        },
        "id": "VhwlHMHJYXPz",
        "outputId": "3bee04d5-b401-493b-9b11-0a79e5fbd2e7"
      },
      "execution_count": 288,
      "outputs": [
        {
          "output_type": "execute_result",
          "data": {
            "text/plain": [
              "band               0\n",
              "model              0\n",
              "variant         2103\n",
              "fuelType           2\n",
              "bodytype         193\n",
              "tramsmission       0\n",
              "seating            0\n",
              "year               0\n",
              "milage             0\n",
              "color              0\n",
              "place              0\n",
              "price              0\n",
              "dtype: int64"
            ]
          },
          "metadata": {},
          "execution_count": 288
        }
      ]
    },
    {
      "cell_type": "code",
      "source": [
        "nan_values = data_train[data_train['fuelType'].isna()]\n",
        "print (nan_values)"
      ],
      "metadata": {
        "colab": {
          "base_uri": "https://localhost:8080/"
        },
        "id": "lL3yd0y7h7ET",
        "outputId": "e6f4aded-5a0a-4bdc-895d-9a11eebcccaa"
      },
      "execution_count": 289,
      "outputs": [
        {
          "output_type": "stream",
          "name": "stdout",
          "text": [
            "        band    model variant fuelType   bodytype tramsmission seating  year  \\\n",
            "12163  Tesla  Model S   P100D      NaN  Hatchback    Automatic       5  2016   \n",
            "89418  Tesla  Model X     75D      NaN      Wagon    Automatic       5  2018   \n",
            "\n",
            "       milage  color          place       price  \n",
            "12163    7500  Putih  Jakarta Utara  4400000000  \n",
            "89418    2500  Hitam  Jakarta Utara  2850000000  \n"
          ]
        }
      ]
    },
    {
      "cell_type": "code",
      "source": [
        "# fuel type\n",
        "data_train[\"fuelType\"] = data_train[\"fuelType\"].fillna(\"baterai\")"
      ],
      "metadata": {
        "id": "ufcvg-Y7f1qN"
      },
      "execution_count": 290,
      "outputs": []
    },
    {
      "cell_type": "code",
      "source": [
        "# variant & bodytype delete null data\n",
        "\n",
        "data_train = data_train.drop(data_train[data_train['variant'].isna()].index)\n",
        "data_train = data_train.drop(data_train[data_train['bodytype'].isna()].index)\n",
        "\n",
        "print(data_train.shape)\n",
        "print(\"------====================--------\")\n",
        "print(data_train.isnull().sum())\n",
        "print(\"------====================--------\")\n",
        "print(data_train.info())"
      ],
      "metadata": {
        "colab": {
          "base_uri": "https://localhost:8080/"
        },
        "id": "RNBAvzmxijXi",
        "outputId": "328883dd-3263-4345-eb30-7e13dce51746"
      },
      "execution_count": 291,
      "outputs": [
        {
          "output_type": "stream",
          "name": "stdout",
          "text": [
            "(87290, 12)\n",
            "------====================--------\n",
            "band            0\n",
            "model           0\n",
            "variant         0\n",
            "fuelType        0\n",
            "bodytype        0\n",
            "tramsmission    0\n",
            "seating         0\n",
            "year            0\n",
            "milage          0\n",
            "color           0\n",
            "place           0\n",
            "price           0\n",
            "dtype: int64\n",
            "------====================--------\n",
            "<class 'pandas.core.frame.DataFrame'>\n",
            "Int64Index: 87290 entries, 0 to 89584\n",
            "Data columns (total 12 columns):\n",
            " #   Column        Non-Null Count  Dtype \n",
            "---  ------        --------------  ----- \n",
            " 0   band          87290 non-null  object\n",
            " 1   model         87290 non-null  object\n",
            " 2   variant       87290 non-null  object\n",
            " 3   fuelType      87290 non-null  object\n",
            " 4   bodytype      87290 non-null  object\n",
            " 5   tramsmission  87290 non-null  object\n",
            " 6   seating       87290 non-null  object\n",
            " 7   year          87290 non-null  int64 \n",
            " 8   milage        87290 non-null  int64 \n",
            " 9   color         87290 non-null  object\n",
            " 10  place         87290 non-null  object\n",
            " 11  price         87290 non-null  int64 \n",
            "dtypes: int64(3), object(9)\n",
            "memory usage: 8.7+ MB\n",
            "None\n"
          ]
        }
      ]
    },
    {
      "cell_type": "code",
      "source": [
        "# encode categorical variables with ordinal encoding\n",
        "encoder = ce.OrdinalEncoder(cols=['band', 'model', 'fuelType', 'tramsmission', 'seating', 'color','place', 'variant','bodytype' ])\n",
        "X_train = encoder.fit_transform(data_train)\n"
      ],
      "metadata": {
        "id": "J8yaMOdNClPa"
      },
      "execution_count": 292,
      "outputs": []
    },
    {
      "cell_type": "code",
      "source": [
        "# set feature and target\n",
        "X_train = X_train.drop(['price'], axis=1)\n",
        "y_train = data_train['price']\n",
        "X_train.head(3)"
      ],
      "metadata": {
        "colab": {
          "base_uri": "https://localhost:8080/",
          "height": 207
        },
        "id": "AyB4wGrLBa2g",
        "outputId": "460d636a-dd51-47e5-b57b-fecd9bd79001"
      },
      "execution_count": 293,
      "outputs": [
        {
          "output_type": "execute_result",
          "data": {
            "text/plain": [
              "   band  model  variant  fuelType  bodytype  tramsmission  seating  year  \\\n",
              "0     1      1        1         1         1             1        1  2014   \n",
              "1     2      2        2         2         2             1        2  2015   \n",
              "2     3      3        3         1         3             2        3  2016   \n",
              "\n",
              "   milage  color  place  \n",
              "0   32500      1      1  \n",
              "1   41000      1      2  \n",
              "2   58000      2      3  "
            ],
            "text/html": [
              "\n",
              "  <div id=\"df-82bd9d1a-e750-42b1-ba6b-06139bde1a6f\">\n",
              "    <div class=\"colab-df-container\">\n",
              "      <div>\n",
              "<style scoped>\n",
              "    .dataframe tbody tr th:only-of-type {\n",
              "        vertical-align: middle;\n",
              "    }\n",
              "\n",
              "    .dataframe tbody tr th {\n",
              "        vertical-align: top;\n",
              "    }\n",
              "\n",
              "    .dataframe thead th {\n",
              "        text-align: right;\n",
              "    }\n",
              "</style>\n",
              "<table border=\"1\" class=\"dataframe\">\n",
              "  <thead>\n",
              "    <tr style=\"text-align: right;\">\n",
              "      <th></th>\n",
              "      <th>band</th>\n",
              "      <th>model</th>\n",
              "      <th>variant</th>\n",
              "      <th>fuelType</th>\n",
              "      <th>bodytype</th>\n",
              "      <th>tramsmission</th>\n",
              "      <th>seating</th>\n",
              "      <th>year</th>\n",
              "      <th>milage</th>\n",
              "      <th>color</th>\n",
              "      <th>place</th>\n",
              "    </tr>\n",
              "  </thead>\n",
              "  <tbody>\n",
              "    <tr>\n",
              "      <th>0</th>\n",
              "      <td>1</td>\n",
              "      <td>1</td>\n",
              "      <td>1</td>\n",
              "      <td>1</td>\n",
              "      <td>1</td>\n",
              "      <td>1</td>\n",
              "      <td>1</td>\n",
              "      <td>2014</td>\n",
              "      <td>32500</td>\n",
              "      <td>1</td>\n",
              "      <td>1</td>\n",
              "    </tr>\n",
              "    <tr>\n",
              "      <th>1</th>\n",
              "      <td>2</td>\n",
              "      <td>2</td>\n",
              "      <td>2</td>\n",
              "      <td>2</td>\n",
              "      <td>2</td>\n",
              "      <td>1</td>\n",
              "      <td>2</td>\n",
              "      <td>2015</td>\n",
              "      <td>41000</td>\n",
              "      <td>1</td>\n",
              "      <td>2</td>\n",
              "    </tr>\n",
              "    <tr>\n",
              "      <th>2</th>\n",
              "      <td>3</td>\n",
              "      <td>3</td>\n",
              "      <td>3</td>\n",
              "      <td>1</td>\n",
              "      <td>3</td>\n",
              "      <td>2</td>\n",
              "      <td>3</td>\n",
              "      <td>2016</td>\n",
              "      <td>58000</td>\n",
              "      <td>2</td>\n",
              "      <td>3</td>\n",
              "    </tr>\n",
              "  </tbody>\n",
              "</table>\n",
              "</div>\n",
              "      <button class=\"colab-df-convert\" onclick=\"convertToInteractive('df-82bd9d1a-e750-42b1-ba6b-06139bde1a6f')\"\n",
              "              title=\"Convert this dataframe to an interactive table.\"\n",
              "              style=\"display:none;\">\n",
              "        \n",
              "  <svg xmlns=\"http://www.w3.org/2000/svg\" height=\"24px\"viewBox=\"0 0 24 24\"\n",
              "       width=\"24px\">\n",
              "    <path d=\"M0 0h24v24H0V0z\" fill=\"none\"/>\n",
              "    <path d=\"M18.56 5.44l.94 2.06.94-2.06 2.06-.94-2.06-.94-.94-2.06-.94 2.06-2.06.94zm-11 1L8.5 8.5l.94-2.06 2.06-.94-2.06-.94L8.5 2.5l-.94 2.06-2.06.94zm10 10l.94 2.06.94-2.06 2.06-.94-2.06-.94-.94-2.06-.94 2.06-2.06.94z\"/><path d=\"M17.41 7.96l-1.37-1.37c-.4-.4-.92-.59-1.43-.59-.52 0-1.04.2-1.43.59L10.3 9.45l-7.72 7.72c-.78.78-.78 2.05 0 2.83L4 21.41c.39.39.9.59 1.41.59.51 0 1.02-.2 1.41-.59l7.78-7.78 2.81-2.81c.8-.78.8-2.07 0-2.86zM5.41 20L4 18.59l7.72-7.72 1.47 1.35L5.41 20z\"/>\n",
              "  </svg>\n",
              "      </button>\n",
              "      \n",
              "  <style>\n",
              "    .colab-df-container {\n",
              "      display:flex;\n",
              "      flex-wrap:wrap;\n",
              "      gap: 12px;\n",
              "    }\n",
              "\n",
              "    .colab-df-convert {\n",
              "      background-color: #E8F0FE;\n",
              "      border: none;\n",
              "      border-radius: 50%;\n",
              "      cursor: pointer;\n",
              "      display: none;\n",
              "      fill: #1967D2;\n",
              "      height: 32px;\n",
              "      padding: 0 0 0 0;\n",
              "      width: 32px;\n",
              "    }\n",
              "\n",
              "    .colab-df-convert:hover {\n",
              "      background-color: #E2EBFA;\n",
              "      box-shadow: 0px 1px 2px rgba(60, 64, 67, 0.3), 0px 1px 3px 1px rgba(60, 64, 67, 0.15);\n",
              "      fill: #174EA6;\n",
              "    }\n",
              "\n",
              "    [theme=dark] .colab-df-convert {\n",
              "      background-color: #3B4455;\n",
              "      fill: #D2E3FC;\n",
              "    }\n",
              "\n",
              "    [theme=dark] .colab-df-convert:hover {\n",
              "      background-color: #434B5C;\n",
              "      box-shadow: 0px 1px 3px 1px rgba(0, 0, 0, 0.15);\n",
              "      filter: drop-shadow(0px 1px 2px rgba(0, 0, 0, 0.3));\n",
              "      fill: #FFFFFF;\n",
              "    }\n",
              "  </style>\n",
              "\n",
              "      <script>\n",
              "        const buttonEl =\n",
              "          document.querySelector('#df-82bd9d1a-e750-42b1-ba6b-06139bde1a6f button.colab-df-convert');\n",
              "        buttonEl.style.display =\n",
              "          google.colab.kernel.accessAllowed ? 'block' : 'none';\n",
              "\n",
              "        async function convertToInteractive(key) {\n",
              "          const element = document.querySelector('#df-82bd9d1a-e750-42b1-ba6b-06139bde1a6f');\n",
              "          const dataTable =\n",
              "            await google.colab.kernel.invokeFunction('convertToInteractive',\n",
              "                                                     [key], {});\n",
              "          if (!dataTable) return;\n",
              "\n",
              "          const docLinkHtml = 'Like what you see? Visit the ' +\n",
              "            '<a target=\"_blank\" href=https://colab.research.google.com/notebooks/data_table.ipynb>data table notebook</a>'\n",
              "            + ' to learn more about interactive tables.';\n",
              "          element.innerHTML = '';\n",
              "          dataTable['output_type'] = 'display_data';\n",
              "          await google.colab.output.renderOutput(dataTable, element);\n",
              "          const docLink = document.createElement('div');\n",
              "          docLink.innerHTML = docLinkHtml;\n",
              "          element.appendChild(docLink);\n",
              "        }\n",
              "      </script>\n",
              "    </div>\n",
              "  </div>\n",
              "  "
            ]
          },
          "metadata": {},
          "execution_count": 293
        }
      ]
    },
    {
      "cell_type": "code",
      "source": [
        "# split data for testing\n",
        "train_features, test_features, train_labels, test_labels = train_test_split(X_train, y_train, test_size = 0.25, random_state = 42)"
      ],
      "metadata": {
        "id": "8l6z3CdeJLkz"
      },
      "execution_count": 294,
      "outputs": []
    },
    {
      "cell_type": "markdown",
      "source": [
        "## training model"
      ],
      "metadata": {
        "id": "Wsz-yndf3xCz"
      }
    },
    {
      "cell_type": "code",
      "source": [
        "# random forest\n",
        "\n",
        "rf = RandomForestRegressor(n_estimators = 1000, random_state = 42)\n",
        "# fit the model to the training set\n",
        "\n",
        "rf.fit(train_features, train_labels)\n",
        "# Predict on the test set results\n",
        "\n",
        "y_pred_rf = rf.predict(test_features)\n",
        "\n",
        "print(y_pred_rf)\n",
        "\n"
      ],
      "metadata": {
        "colab": {
          "base_uri": "https://localhost:8080/"
        },
        "id": "L7wBBLMR6x2X",
        "outputId": "2c64c008-a8fb-4f57-8e9d-729c9590a971"
      },
      "execution_count": 297,
      "outputs": [
        {
          "output_type": "stream",
          "name": "stdout",
          "text": [
            "[1.79675742e+08 1.01351750e+08 5.27752303e+08 ... 8.12220000e+07\n",
            " 1.32054267e+08 2.25142067e+08]\n"
          ]
        }
      ]
    },
    {
      "cell_type": "code",
      "source": [
        "# KNN\n",
        "\n",
        "knn = KNeighborsRegressor(n_neighbors=3)\n",
        "knn.fit(train_features, train_labels)\n",
        "y_pred_knn = knn.predict(test_features)\n",
        "\n",
        "print(y_pred_knn)\n"
      ],
      "metadata": {
        "colab": {
          "base_uri": "https://localhost:8080/"
        },
        "id": "iXsIb5bhZKw1",
        "outputId": "d36165d0-338b-4bac-c33c-f443ba17d50a"
      },
      "execution_count": 298,
      "outputs": [
        {
          "output_type": "stream",
          "name": "stdout",
          "text": [
            "[1.85333333e+08 9.63333333e+07 5.28333333e+08 ... 8.08333333e+07\n",
            " 1.29666667e+08 2.29333333e+08]\n"
          ]
        }
      ]
    },
    {
      "cell_type": "markdown",
      "source": [
        "## Analisa"
      ],
      "metadata": {
        "id": "BJn_aM2yk-cE"
      }
    },
    {
      "cell_type": "markdown",
      "source": [
        "### mean absolute error"
      ],
      "metadata": {
        "id": "8pCewfBqzOLF"
      }
    },
    {
      "cell_type": "code",
      "source": [
        "# Random Forest -- Calculate the absolute errors\n",
        "mae_rf = mean_absolute_error(test_labels,y_pred_rf)\n",
        "print('Mean Absolute Error (mae):', mae_rf)\n"
      ],
      "metadata": {
        "colab": {
          "base_uri": "https://localhost:8080/"
        },
        "id": "djY-4JO_BP6-",
        "outputId": "02d1e441-80aa-41da-b130-7df08313507f"
      },
      "execution_count": 299,
      "outputs": [
        {
          "output_type": "stream",
          "name": "stdout",
          "text": [
            "Mean Absolute Error (mae): 17539362.717182916\n"
          ]
        }
      ]
    },
    {
      "cell_type": "code",
      "source": [
        "# KNN -- Calculate the absolute errors\n",
        "mae_knn = mean_absolute_error(test_labels,y_pred_knn)\n",
        "print('Mean Absolute Error (mae):', mae_knn)"
      ],
      "metadata": {
        "colab": {
          "base_uri": "https://localhost:8080/"
        },
        "id": "gmZQyifExzTj",
        "outputId": "d67f767e-8da6-4959-d2bd-0171790058b2"
      },
      "execution_count": 300,
      "outputs": [
        {
          "output_type": "stream",
          "name": "stdout",
          "text": [
            "Mean Absolute Error (mae): 74518734.2612076\n"
          ]
        }
      ]
    },
    {
      "cell_type": "code",
      "source": [
        "t = PrettyTable(['','Random Forest', 'KNN'])\n",
        "t.add_row(['mae',f'{mae_rf:,}', f'{mae_knn:,}'])\n",
        "print(t)"
      ],
      "metadata": {
        "colab": {
          "base_uri": "https://localhost:8080/"
        },
        "id": "kKKlw4U3rViQ",
        "outputId": "1a17f5d9-040e-4413-8bac-455e21ed1625"
      },
      "execution_count": 301,
      "outputs": [
        {
          "output_type": "stream",
          "name": "stdout",
          "text": [
            "+-----+----------------------+--------------------+\n",
            "|     |    Random Forest     |        KNN         |\n",
            "+-----+----------------------+--------------------+\n",
            "| mae | 17,539,362.717182916 | 74,518,734.2612076 |\n",
            "+-----+----------------------+--------------------+\n"
          ]
        }
      ]
    },
    {
      "cell_type": "markdown",
      "source": [
        "### Mean Square Error"
      ],
      "metadata": {
        "id": "m5a4eOFe_lGD"
      }
    },
    {
      "cell_type": "code",
      "source": [
        "# Random Forest  -- Calculate the MSE\n",
        "mse_rf = mean_squared_error(test_labels,y_pred_rf)\n",
        "print('MSE:', mse_rf)"
      ],
      "metadata": {
        "colab": {
          "base_uri": "https://localhost:8080/"
        },
        "id": "UhP4Q8C9_rl5",
        "outputId": "40de1318-8759-4fee-9ebb-6b355a850019"
      },
      "execution_count": 302,
      "outputs": [
        {
          "output_type": "stream",
          "name": "stdout",
          "text": [
            "MSE: 1.112499271039668e+16\n"
          ]
        }
      ]
    },
    {
      "cell_type": "code",
      "source": [
        "# KNN  -- Calculate the MSE\n",
        "mse_knn = mean_squared_error(test_labels,y_pred_knn)\n",
        "print('MSE:', mse_knn)"
      ],
      "metadata": {
        "colab": {
          "base_uri": "https://localhost:8080/"
        },
        "id": "2VH0Y6DO_-y_",
        "outputId": "bf7d0f27-ffe0-4c40-9acf-5ac39cbc1c84"
      },
      "execution_count": 303,
      "outputs": [
        {
          "output_type": "stream",
          "name": "stdout",
          "text": [
            "MSE: 7.150195326374731e+16\n"
          ]
        }
      ]
    },
    {
      "cell_type": "code",
      "source": [
        "t.add_row(['mse',f'{mse_rf:,}', f'{mse_knn:,}'])\n",
        "print(t)"
      ],
      "metadata": {
        "colab": {
          "base_uri": "https://localhost:8080/"
        },
        "id": "lac_sKYeAFtA",
        "outputId": "628dde92-1a68-4985-f768-402fff7372ec"
      },
      "execution_count": 304,
      "outputs": [
        {
          "output_type": "stream",
          "name": "stdout",
          "text": [
            "+-----+-----------------------+-----------------------+\n",
            "|     |     Random Forest     |          KNN          |\n",
            "+-----+-----------------------+-----------------------+\n",
            "| mae |  17,539,362.717182916 |   74,518,734.2612076  |\n",
            "| mse | 1.112499271039668e+16 | 7.150195326374731e+16 |\n",
            "+-----+-----------------------+-----------------------+\n"
          ]
        }
      ]
    },
    {
      "cell_type": "markdown",
      "source": [
        "### Root MSE"
      ],
      "metadata": {
        "id": "Ii9PpvxJBOvW"
      }
    },
    {
      "cell_type": "code",
      "source": [
        "RMSE_rf = math.sqrt(mse_rf)\n",
        "print(\"Root Mean Square Error Random Forest: \", RMSE_rf)\n",
        "\n",
        "RMSE_knn = math.sqrt(mse_knn)\n",
        "print(\"Root Mean Square Error KNN: \", RMSE_knn)"
      ],
      "metadata": {
        "colab": {
          "base_uri": "https://localhost:8080/"
        },
        "id": "jsAZ_H0SBUk-",
        "outputId": "2cd94816-ec55-46d1-a08a-25f8276367c5"
      },
      "execution_count": 305,
      "outputs": [
        {
          "output_type": "stream",
          "name": "stdout",
          "text": [
            "Root Mean Square Error Random Forest:  105475080.99260545\n",
            "Root Mean Square Error KNN:  267398491.5135972\n"
          ]
        }
      ]
    },
    {
      "cell_type": "code",
      "source": [
        "t.add_row(['rmse',f'{RMSE_rf:,}', f'{RMSE_knn:,}'])\n",
        "print(t)"
      ],
      "metadata": {
        "colab": {
          "base_uri": "https://localhost:8080/"
        },
        "id": "5VbFTY7ABu6P",
        "outputId": "187b5c3d-16f5-4396-a5fc-dbd45ae3f066"
      },
      "execution_count": 306,
      "outputs": [
        {
          "output_type": "stream",
          "name": "stdout",
          "text": [
            "+------+-----------------------+-----------------------+\n",
            "|      |     Random Forest     |          KNN          |\n",
            "+------+-----------------------+-----------------------+\n",
            "| mae  |  17,539,362.717182916 |   74,518,734.2612076  |\n",
            "| mse  | 1.112499271039668e+16 | 7.150195326374731e+16 |\n",
            "| rmse |  105,475,080.99260545 |  267,398,491.5135972  |\n",
            "+------+-----------------------+-----------------------+\n"
          ]
        }
      ]
    },
    {
      "cell_type": "markdown",
      "source": [
        "### R square"
      ],
      "metadata": {
        "id": "npPcuCtMzWpP"
      }
    },
    {
      "cell_type": "code",
      "source": [
        "# Random Forest -- Calculate mean absolute percentage error (MAPE)\n",
        "\n",
        "r2_rf = explained_variance_score(test_labels,y_pred_rf)\n",
        "print('R2:', r2_rf)"
      ],
      "metadata": {
        "colab": {
          "base_uri": "https://localhost:8080/"
        },
        "id": "4eha2gSoynj5",
        "outputId": "83e80beb-ac6a-41a6-b0c3-0a57f6897aed"
      },
      "execution_count": 307,
      "outputs": [
        {
          "output_type": "stream",
          "name": "stdout",
          "text": [
            "R2: 0.9269486231320497\n"
          ]
        }
      ]
    },
    {
      "cell_type": "code",
      "source": [
        "# KNN -- Calculate mean absolute percentage error (MAPE)\n",
        "r2_knn = explained_variance_score(test_labels,y_pred_knn)\n",
        "print('R2:', r2_knn)"
      ],
      "metadata": {
        "colab": {
          "base_uri": "https://localhost:8080/"
        },
        "id": "0p9lbDvcCcMZ",
        "outputId": "166182c3-b99c-4ddc-8040-6e454e88935e"
      },
      "execution_count": 308,
      "outputs": [
        {
          "output_type": "stream",
          "name": "stdout",
          "text": [
            "R2: 0.5304879623751935\n"
          ]
        }
      ]
    },
    {
      "cell_type": "code",
      "source": [
        "t.add_row(['R2',r2_rf, r2_knn])\n",
        "print(t)"
      ],
      "metadata": {
        "colab": {
          "base_uri": "https://localhost:8080/"
        },
        "id": "IXR106aTzFce",
        "outputId": "38448b68-c542-4af3-e34e-1e169ed80030"
      },
      "execution_count": 309,
      "outputs": [
        {
          "output_type": "stream",
          "name": "stdout",
          "text": [
            "+------+-----------------------+-----------------------+\n",
            "|      |     Random Forest     |          KNN          |\n",
            "+------+-----------------------+-----------------------+\n",
            "| mae  |  17,539,362.717182916 |   74,518,734.2612076  |\n",
            "| mse  | 1.112499271039668e+16 | 7.150195326374731e+16 |\n",
            "| rmse |  105,475,080.99260545 |  267,398,491.5135972  |\n",
            "|  R2  |   0.9269486231320497  |   0.5304879623751935  |\n",
            "+------+-----------------------+-----------------------+\n"
          ]
        }
      ]
    },
    {
      "cell_type": "markdown",
      "source": [
        "### Mutual information"
      ],
      "metadata": {
        "id": "tv8A8VG4zhAo"
      }
    },
    {
      "cell_type": "code",
      "source": [
        "# mutual information\n",
        "mi = mutual_info_classif(X_train, y_train)\n",
        "mi = pd.Series(mi)\n",
        "mi.index = X_train.columns\n",
        "mi.sort_values(ascending=False).plot.bar(figsize=(5, 5))\n",
        "plt.ylabel('Mutual Information')"
      ],
      "metadata": {
        "colab": {
          "base_uri": "https://localhost:8080/",
          "height": 395
        },
        "id": "xjJuAdtBlTJm",
        "outputId": "3e11fe63-565f-4e1b-acd5-2c8b4ceade6f"
      },
      "execution_count": 310,
      "outputs": [
        {
          "output_type": "execute_result",
          "data": {
            "text/plain": [
              "Text(0, 0.5, 'Mutual Information')"
            ]
          },
          "metadata": {},
          "execution_count": 310
        },
        {
          "output_type": "display_data",
          "data": {
            "text/plain": [
              "<Figure size 360x360 with 1 Axes>"
            ],
            "image/png": "[encoded data removed]"
          },
          "metadata": {
            "needs_background": "light"
          }
        }
      ]
    }
  ]
}