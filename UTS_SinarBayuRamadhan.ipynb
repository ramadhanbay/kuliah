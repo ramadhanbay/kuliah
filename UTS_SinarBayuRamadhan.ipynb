{
  "nbformat": 4,
  "nbformat_minor": 0,
  "metadata": {
    "colab": {
      "provenance": [],
      "authorship_tag": "ABX9TyPZSAlX16L63lKNn1xfNXl2",
      "include_colab_link": true
    },
    "kernelspec": {
      "name": "python3",
      "display_name": "Python 3"
    },
    "language_info": {
      "name": "python"
    }
  },
  "cells": [
    {
      "cell_type": "markdown",
      "metadata": {
        "id": "view-in-github",
        "colab_type": "text"
      },
      "source": [
        "<a href=\"https://colab.research.google.com/github/ramadhanbay/kuliah/blob/main/UTS_SinarBayuRamadhan.ipynb\" target=\"_parent\"><img src=\"https://colab.research.google.com/assets/colab-badge.svg\" alt=\"Open In Colab\"/></a>"
      ]
    },
    {
      "cell_type": "markdown",
      "source": [
        "# **UTS Machine Learning**\n",
        "\n",
        "Sinar Bayu Ramadhan (01679220015@student.uph.edu)\n",
        "\n",
        "Contoh kasus menggunakan google collab untuk Random Forest menggunakan data mobil bekas yang diambil dari https://atapdata.ai/dataset/231/harga_mobil_bekas"
      ],
      "metadata": {
        "id": "BEW0defNT_Ar"
      }
    },
    {
      "cell_type": "markdown",
      "source": [
        "## import data untuk train"
      ],
      "metadata": {
        "id": "VpOJWyQwUUvl"
      }
    },
    {
      "cell_type": "code",
      "source": [
        "%pip install category_encoders"
      ],
      "metadata": {
        "colab": {
          "base_uri": "https://localhost:8080/"
        },
        "id": "Uv0bIqzrD_LG",
        "outputId": "9bb0b7f3-2db5-487e-e198-f7958997b790"
      },
      "execution_count": 2,
      "outputs": [
        {
          "output_type": "stream",
          "name": "stdout",
          "text": [
            "Looking in indexes: https://pypi.org/simple, https://us-python.pkg.dev/colab-wheels/public/simple/\n",
            "Collecting category_encoders\n",
            "  Downloading category_encoders-2.6.0-py2.py3-none-any.whl (81 kB)\n",
            "\u001b[2K     \u001b[90m━━━━━━━━━━━━━━━━━━━━━━━━━━━━━━━━━━━━━━━━\u001b[0m \u001b[32m81.2/81.2 KB\u001b[0m \u001b[31m3.9 MB/s\u001b[0m eta \u001b[36m0:00:00\u001b[0m\n",
            "\u001b[?25hRequirement already satisfied: patsy>=0.5.1 in /usr/local/lib/python3.9/dist-packages (from category_encoders) (0.5.3)\n",
            "Requirement already satisfied: pandas>=1.0.5 in /usr/local/lib/python3.9/dist-packages (from category_encoders) (1.4.4)\n",
            "Requirement already satisfied: statsmodels>=0.9.0 in /usr/local/lib/python3.9/dist-packages (from category_encoders) (0.13.5)\n",
            "Requirement already satisfied: scipy>=1.0.0 in /usr/local/lib/python3.9/dist-packages (from category_encoders) (1.10.1)\n",
            "Requirement already satisfied: numpy>=1.14.0 in /usr/local/lib/python3.9/dist-packages (from category_encoders) (1.22.4)\n",
            "Requirement already satisfied: scikit-learn>=0.20.0 in /usr/local/lib/python3.9/dist-packages (from category_encoders) (1.2.2)\n",
            "Requirement already satisfied: python-dateutil>=2.8.1 in /usr/local/lib/python3.9/dist-packages (from pandas>=1.0.5->category_encoders) (2.8.2)\n",
            "Requirement already satisfied: pytz>=2020.1 in /usr/local/lib/python3.9/dist-packages (from pandas>=1.0.5->category_encoders) (2022.7.1)\n",
            "Requirement already satisfied: six in /usr/local/lib/python3.9/dist-packages (from patsy>=0.5.1->category_encoders) (1.15.0)\n",
            "Requirement already satisfied: threadpoolctl>=2.0.0 in /usr/local/lib/python3.9/dist-packages (from scikit-learn>=0.20.0->category_encoders) (3.1.0)\n",
            "Requirement already satisfied: joblib>=1.1.1 in /usr/local/lib/python3.9/dist-packages (from scikit-learn>=0.20.0->category_encoders) (1.1.1)\n",
            "Requirement already satisfied: packaging>=21.3 in /usr/local/lib/python3.9/dist-packages (from statsmodels>=0.9.0->category_encoders) (23.0)\n",
            "Installing collected packages: category_encoders\n",
            "Successfully installed category_encoders-2.6.0\n"
          ]
        }
      ]
    },
    {
      "cell_type": "code",
      "execution_count": 3,
      "metadata": {
        "colab": {
          "base_uri": "https://localhost:8080/",
          "height": 143
        },
        "id": "z-OrCj1dRAWg",
        "outputId": "ea2de924-d620-4628-81c8-6c83d6d53827"
      },
      "outputs": [
        {
          "output_type": "execute_result",
          "data": {
            "text/plain": [
              "      id                                    title    band    model  \\\n",
              "0  50318          2010 Nissan X-Trail 2.0 T31 SUV  Nissan  X-Trail   \n",
              "1  19882                 2012 Mazda 2 1.5 S Sedan   Mazda        2   \n",
              "2  29381  2014 Honda Odyssey 2.4 Prestige 2.4 MPV   Honda  Odyssey   \n",
              "\n",
              "        variant  fuelType bodytype tramsmission seating  year  milage   color  \\\n",
              "0           T31  Pertamax      SUV       Manual       5  2010     250  Silver   \n",
              "1             S  Pertamax    Sedan       Manual       5  2012   67500   Hijau   \n",
              "2  Prestige 2.4  Pertamax      MPV    Automatic       6  2014   64000   Hitam   \n",
              "\n",
              "                                               image            place  \\\n",
              "0  https://img4.icarcdn.com/2200806/thumb-l_used-...         Wonogiri   \n",
              "1  https://img2.icarcdn.com/8715916/thumb-l_used-...         Surabaya   \n",
              "2  https://img3.icarcdn.com/6198256/thumb-l_used-...  Jakarta Selatan   \n",
              "\n",
              "       price  \n",
              "0  115000000  \n",
              "1  105000000  \n",
              "2  355000000  "
            ],
            "text/html": [
              "\n",
              "  <div id=\"df-52bc8873-2049-48f8-98f4-daaf87e03550\">\n",
              "    <div class=\"colab-df-container\">\n",
              "      <div>\n",
              "<style scoped>\n",
              "    .dataframe tbody tr th:only-of-type {\n",
              "        vertical-align: middle;\n",
              "    }\n",
              "\n",
              "    .dataframe tbody tr th {\n",
              "        vertical-align: top;\n",
              "    }\n",
              "\n",
              "    .dataframe thead th {\n",
              "        text-align: right;\n",
              "    }\n",
              "</style>\n",
              "<table border=\"1\" class=\"dataframe\">\n",
              "  <thead>\n",
              "    <tr style=\"text-align: right;\">\n",
              "      <th></th>\n",
              "      <th>id</th>\n",
              "      <th>title</th>\n",
              "      <th>band</th>\n",
              "      <th>model</th>\n",
              "      <th>variant</th>\n",
              "      <th>fuelType</th>\n",
              "      <th>bodytype</th>\n",
              "      <th>tramsmission</th>\n",
              "      <th>seating</th>\n",
              "      <th>year</th>\n",
              "      <th>milage</th>\n",
              "      <th>color</th>\n",
              "      <th>image</th>\n",
              "      <th>place</th>\n",
              "      <th>price</th>\n",
              "    </tr>\n",
              "  </thead>\n",
              "  <tbody>\n",
              "    <tr>\n",
              "      <th>0</th>\n",
              "      <td>50318</td>\n",
              "      <td>2010 Nissan X-Trail 2.0 T31 SUV</td>\n",
              "      <td>Nissan</td>\n",
              "      <td>X-Trail</td>\n",
              "      <td>T31</td>\n",
              "      <td>Pertamax</td>\n",
              "      <td>SUV</td>\n",
              "      <td>Manual</td>\n",
              "      <td>5</td>\n",
              "      <td>2010</td>\n",
              "      <td>250</td>\n",
              "      <td>Silver</td>\n",
              "      <td>https://img4.icarcdn.com/2200806/thumb-l_used-...</td>\n",
              "      <td>Wonogiri</td>\n",
              "      <td>115000000</td>\n",
              "    </tr>\n",
              "    <tr>\n",
              "      <th>1</th>\n",
              "      <td>19882</td>\n",
              "      <td>2012 Mazda 2 1.5 S Sedan</td>\n",
              "      <td>Mazda</td>\n",
              "      <td>2</td>\n",
              "      <td>S</td>\n",
              "      <td>Pertamax</td>\n",
              "      <td>Sedan</td>\n",
              "      <td>Manual</td>\n",
              "      <td>5</td>\n",
              "      <td>2012</td>\n",
              "      <td>67500</td>\n",
              "      <td>Hijau</td>\n",
              "      <td>https://img2.icarcdn.com/8715916/thumb-l_used-...</td>\n",
              "      <td>Surabaya</td>\n",
              "      <td>105000000</td>\n",
              "    </tr>\n",
              "    <tr>\n",
              "      <th>2</th>\n",
              "      <td>29381</td>\n",
              "      <td>2014 Honda Odyssey 2.4 Prestige 2.4 MPV</td>\n",
              "      <td>Honda</td>\n",
              "      <td>Odyssey</td>\n",
              "      <td>Prestige 2.4</td>\n",
              "      <td>Pertamax</td>\n",
              "      <td>MPV</td>\n",
              "      <td>Automatic</td>\n",
              "      <td>6</td>\n",
              "      <td>2014</td>\n",
              "      <td>64000</td>\n",
              "      <td>Hitam</td>\n",
              "      <td>https://img3.icarcdn.com/6198256/thumb-l_used-...</td>\n",
              "      <td>Jakarta Selatan</td>\n",
              "      <td>355000000</td>\n",
              "    </tr>\n",
              "  </tbody>\n",
              "</table>\n",
              "</div>\n",
              "      <button class=\"colab-df-convert\" onclick=\"convertToInteractive('df-52bc8873-2049-48f8-98f4-daaf87e03550')\"\n",
              "              title=\"Convert this dataframe to an interactive table.\"\n",
              "              style=\"display:none;\">\n",
              "        \n",
              "  <svg xmlns=\"http://www.w3.org/2000/svg\" height=\"24px\"viewBox=\"0 0 24 24\"\n",
              "       width=\"24px\">\n",
              "    <path d=\"M0 0h24v24H0V0z\" fill=\"none\"/>\n",
              "    <path d=\"M18.56 5.44l.94 2.06.94-2.06 2.06-.94-2.06-.94-.94-2.06-.94 2.06-2.06.94zm-11 1L8.5 8.5l.94-2.06 2.06-.94-2.06-.94L8.5 2.5l-.94 2.06-2.06.94zm10 10l.94 2.06.94-2.06 2.06-.94-2.06-.94-.94-2.06-.94 2.06-2.06.94z\"/><path d=\"M17.41 7.96l-1.37-1.37c-.4-.4-.92-.59-1.43-.59-.52 0-1.04.2-1.43.59L10.3 9.45l-7.72 7.72c-.78.78-.78 2.05 0 2.83L4 21.41c.39.39.9.59 1.41.59.51 0 1.02-.2 1.41-.59l7.78-7.78 2.81-2.81c.8-.78.8-2.07 0-2.86zM5.41 20L4 18.59l7.72-7.72 1.47 1.35L5.41 20z\"/>\n",
              "  </svg>\n",
              "      </button>\n",
              "      \n",
              "  <style>\n",
              "    .colab-df-container {\n",
              "      display:flex;\n",
              "      flex-wrap:wrap;\n",
              "      gap: 12px;\n",
              "    }\n",
              "\n",
              "    .colab-df-convert {\n",
              "      background-color: #E8F0FE;\n",
              "      border: none;\n",
              "      border-radius: 50%;\n",
              "      cursor: pointer;\n",
              "      display: none;\n",
              "      fill: #1967D2;\n",
              "      height: 32px;\n",
              "      padding: 0 0 0 0;\n",
              "      width: 32px;\n",
              "    }\n",
              "\n",
              "    .colab-df-convert:hover {\n",
              "      background-color: #E2EBFA;\n",
              "      box-shadow: 0px 1px 2px rgba(60, 64, 67, 0.3), 0px 1px 3px 1px rgba(60, 64, 67, 0.15);\n",
              "      fill: #174EA6;\n",
              "    }\n",
              "\n",
              "    [theme=dark] .colab-df-convert {\n",
              "      background-color: #3B4455;\n",
              "      fill: #D2E3FC;\n",
              "    }\n",
              "\n",
              "    [theme=dark] .colab-df-convert:hover {\n",
              "      background-color: #434B5C;\n",
              "      box-shadow: 0px 1px 3px 1px rgba(0, 0, 0, 0.15);\n",
              "      filter: drop-shadow(0px 1px 2px rgba(0, 0, 0, 0.3));\n",
              "      fill: #FFFFFF;\n",
              "    }\n",
              "  </style>\n",
              "\n",
              "      <script>\n",
              "        const buttonEl =\n",
              "          document.querySelector('#df-52bc8873-2049-48f8-98f4-daaf87e03550 button.colab-df-convert');\n",
              "        buttonEl.style.display =\n",
              "          google.colab.kernel.accessAllowed ? 'block' : 'none';\n",
              "\n",
              "        async function convertToInteractive(key) {\n",
              "          const element = document.querySelector('#df-52bc8873-2049-48f8-98f4-daaf87e03550');\n",
              "          const dataTable =\n",
              "            await google.colab.kernel.invokeFunction('convertToInteractive',\n",
              "                                                     [key], {});\n",
              "          if (!dataTable) return;\n",
              "\n",
              "          const docLinkHtml = 'Like what you see? Visit the ' +\n",
              "            '<a target=\"_blank\" href=https://colab.research.google.com/notebooks/data_table.ipynb>data table notebook</a>'\n",
              "            + ' to learn more about interactive tables.';\n",
              "          element.innerHTML = '';\n",
              "          dataTable['output_type'] = 'display_data';\n",
              "          await google.colab.output.renderOutput(dataTable, element);\n",
              "          const docLink = document.createElement('div');\n",
              "          docLink.innerHTML = docLinkHtml;\n",
              "          element.appendChild(docLink);\n",
              "        }\n",
              "      </script>\n",
              "    </div>\n",
              "  </div>\n",
              "  "
            ]
          },
          "metadata": {},
          "execution_count": 3
        }
      ],
      "source": [
        "import pandas as pd\n",
        "from sklearn.model_selection import train_test_split\n",
        "# to obtain the mutual information values\n",
        "from sklearn.feature_selection import mutual_info_classif\n",
        "# to select the features\n",
        "from sklearn.feature_selection import SelectKBest\n",
        "import category_encoders as ce\n",
        "import matplotlib.pyplot as plt\n",
        "\n",
        "\n",
        "url_train = 'https://raw.githubusercontent.com/ramadhanbay/kuliah/main/dataset/cars_train_new.csv'\n",
        "data_train = pd.read_csv(url_train, low_memory=False)\n",
        "data_train.head(3)"
      ]
    },
    {
      "cell_type": "code",
      "source": [
        "# drop unnecessary columns, these columns won't be useful in analysis and prediction\n",
        "data_train = data_train.drop(['id','title','image'], axis=1)\n",
        "print('The shape of our features is:', data_train.shape)\n"
      ],
      "metadata": {
        "colab": {
          "base_uri": "https://localhost:8080/"
        },
        "id": "Z6eYx4U-VUV6",
        "outputId": "2cc09fab-8cf2-49fa-b9c9-467f93226c25"
      },
      "execution_count": 4,
      "outputs": [
        {
          "output_type": "stream",
          "name": "stdout",
          "text": [
            "The shape of our features is: (80000, 12)\n"
          ]
        }
      ]
    },
    {
      "cell_type": "code",
      "source": [
        "data_train.isnull().sum()"
      ],
      "metadata": {
        "colab": {
          "base_uri": "https://localhost:8080/"
        },
        "id": "VhwlHMHJYXPz",
        "outputId": "058e75ff-e724-4adc-8a78-c058dddfec2a"
      },
      "execution_count": 5,
      "outputs": [
        {
          "output_type": "execute_result",
          "data": {
            "text/plain": [
              "band               0\n",
              "model              0\n",
              "variant         1898\n",
              "fuelType           1\n",
              "bodytype         170\n",
              "tramsmission       0\n",
              "seating            0\n",
              "year               0\n",
              "milage             0\n",
              "color              0\n",
              "place              0\n",
              "price              0\n",
              "dtype: int64"
            ]
          },
          "metadata": {},
          "execution_count": 5
        }
      ]
    },
    {
      "cell_type": "code",
      "source": [
        "nan_values = data_train[data_train['fuelType'].isna()]\n",
        "\n",
        "print (nan_values)"
      ],
      "metadata": {
        "colab": {
          "base_uri": "https://localhost:8080/"
        },
        "id": "lL3yd0y7h7ET",
        "outputId": "a0d8a611-de12-48c0-99cc-91104b1b7157"
      },
      "execution_count": 47,
      "outputs": [
        {
          "output_type": "stream",
          "name": "stdout",
          "text": [
            "       band    model variant fuelType   bodytype tramsmission seating  year  \\\n",
            "8163  Tesla  Model S   P100D      NaN  Hatchback    Automatic       5  2016   \n",
            "\n",
            "      milage  color          place       price  \n",
            "8163    7500  Putih  Jakarta Utara  4400000000  \n"
          ]
        }
      ]
    },
    {
      "cell_type": "code",
      "source": [
        "# fuel type\n",
        "data_train[\"fuelType\"] = data_train[\"fuelType\"].fillna(\"baterai\")"
      ],
      "metadata": {
        "id": "ufcvg-Y7f1qN"
      },
      "execution_count": 7,
      "outputs": []
    },
    {
      "cell_type": "code",
      "source": [
        "# variant & bodytype\n",
        "#data_train = data_train.drop(['variant','bodytype'], axis=1)\n",
        "data_train = data_train.drop(data_train[data_train['variant'].isna()].index)\n",
        "data_train = data_train.drop(data_train[data_train['bodytype'].isna()].index)\n",
        "print(data_train.shape)\n",
        "print(\"------\")\n",
        "print(data_train.isnull().sum())"
      ],
      "metadata": {
        "colab": {
          "base_uri": "https://localhost:8080/"
        },
        "id": "RNBAvzmxijXi",
        "outputId": "937ad98b-2141-49d5-e297-1663e5110ad0"
      },
      "execution_count": 16,
      "outputs": [
        {
          "output_type": "stream",
          "name": "stdout",
          "text": [
            "(77933, 12)\n",
            "------\n",
            "band            0\n",
            "model           0\n",
            "variant         0\n",
            "fuelType        0\n",
            "bodytype        0\n",
            "tramsmission    0\n",
            "seating         0\n",
            "year            0\n",
            "milage          0\n",
            "color           0\n",
            "place           0\n",
            "price           0\n",
            "dtype: int64\n"
          ]
        }
      ]
    },
    {
      "cell_type": "code",
      "source": [
        "# encode categorical variables with ordinal encoding\n",
        "encoder = ce.OrdinalEncoder(cols=['band', 'model', 'fuelType', 'tramsmission', 'seating', 'color','place', 'variant','bodytype' ])\n",
        "\n",
        "\n",
        "X_train = encoder.fit_transform(data_train)"
      ],
      "metadata": {
        "id": "J8yaMOdNClPa"
      },
      "execution_count": 17,
      "outputs": []
    },
    {
      "cell_type": "code",
      "source": [
        "# set feature and target\n",
        "X_train = X_train.drop(['price'], axis=1)\n",
        "\n",
        "y_train = data_train['price']\n",
        "\n",
        "X_train.head(3)"
      ],
      "metadata": {
        "colab": {
          "base_uri": "https://localhost:8080/",
          "height": 143
        },
        "id": "AyB4wGrLBa2g",
        "outputId": "7eb91392-9ace-42cd-b78b-be1f6b9e2982"
      },
      "execution_count": 18,
      "outputs": [
        {
          "output_type": "execute_result",
          "data": {
            "text/plain": [
              "   band  model  variant  fuelType  bodytype  tramsmission  seating  year  \\\n",
              "0     1      1        1         1         1             1        1  2010   \n",
              "1     2      2        2         1         2             1        1  2012   \n",
              "2     3      3        3         1         3             2        2  2014   \n",
              "\n",
              "   milage  color  place  \n",
              "0     250      1      1  \n",
              "1   67500      2      2  \n",
              "2   64000      3      3  "
            ],
            "text/html": [
              "\n",
              "  <div id=\"df-7cc352ea-ae81-4c57-91f6-3b3abb18624f\">\n",
              "    <div class=\"colab-df-container\">\n",
              "      <div>\n",
              "<style scoped>\n",
              "    .dataframe tbody tr th:only-of-type {\n",
              "        vertical-align: middle;\n",
              "    }\n",
              "\n",
              "    .dataframe tbody tr th {\n",
              "        vertical-align: top;\n",
              "    }\n",
              "\n",
              "    .dataframe thead th {\n",
              "        text-align: right;\n",
              "    }\n",
              "</style>\n",
              "<table border=\"1\" class=\"dataframe\">\n",
              "  <thead>\n",
              "    <tr style=\"text-align: right;\">\n",
              "      <th></th>\n",
              "      <th>band</th>\n",
              "      <th>model</th>\n",
              "      <th>variant</th>\n",
              "      <th>fuelType</th>\n",
              "      <th>bodytype</th>\n",
              "      <th>tramsmission</th>\n",
              "      <th>seating</th>\n",
              "      <th>year</th>\n",
              "      <th>milage</th>\n",
              "      <th>color</th>\n",
              "      <th>place</th>\n",
              "    </tr>\n",
              "  </thead>\n",
              "  <tbody>\n",
              "    <tr>\n",
              "      <th>0</th>\n",
              "      <td>1</td>\n",
              "      <td>1</td>\n",
              "      <td>1</td>\n",
              "      <td>1</td>\n",
              "      <td>1</td>\n",
              "      <td>1</td>\n",
              "      <td>1</td>\n",
              "      <td>2010</td>\n",
              "      <td>250</td>\n",
              "      <td>1</td>\n",
              "      <td>1</td>\n",
              "    </tr>\n",
              "    <tr>\n",
              "      <th>1</th>\n",
              "      <td>2</td>\n",
              "      <td>2</td>\n",
              "      <td>2</td>\n",
              "      <td>1</td>\n",
              "      <td>2</td>\n",
              "      <td>1</td>\n",
              "      <td>1</td>\n",
              "      <td>2012</td>\n",
              "      <td>67500</td>\n",
              "      <td>2</td>\n",
              "      <td>2</td>\n",
              "    </tr>\n",
              "    <tr>\n",
              "      <th>2</th>\n",
              "      <td>3</td>\n",
              "      <td>3</td>\n",
              "      <td>3</td>\n",
              "      <td>1</td>\n",
              "      <td>3</td>\n",
              "      <td>2</td>\n",
              "      <td>2</td>\n",
              "      <td>2014</td>\n",
              "      <td>64000</td>\n",
              "      <td>3</td>\n",
              "      <td>3</td>\n",
              "    </tr>\n",
              "  </tbody>\n",
              "</table>\n",
              "</div>\n",
              "      <button class=\"colab-df-convert\" onclick=\"convertToInteractive('df-7cc352ea-ae81-4c57-91f6-3b3abb18624f')\"\n",
              "              title=\"Convert this dataframe to an interactive table.\"\n",
              "              style=\"display:none;\">\n",
              "        \n",
              "  <svg xmlns=\"http://www.w3.org/2000/svg\" height=\"24px\"viewBox=\"0 0 24 24\"\n",
              "       width=\"24px\">\n",
              "    <path d=\"M0 0h24v24H0V0z\" fill=\"none\"/>\n",
              "    <path d=\"M18.56 5.44l.94 2.06.94-2.06 2.06-.94-2.06-.94-.94-2.06-.94 2.06-2.06.94zm-11 1L8.5 8.5l.94-2.06 2.06-.94-2.06-.94L8.5 2.5l-.94 2.06-2.06.94zm10 10l.94 2.06.94-2.06 2.06-.94-2.06-.94-.94-2.06-.94 2.06-2.06.94z\"/><path d=\"M17.41 7.96l-1.37-1.37c-.4-.4-.92-.59-1.43-.59-.52 0-1.04.2-1.43.59L10.3 9.45l-7.72 7.72c-.78.78-.78 2.05 0 2.83L4 21.41c.39.39.9.59 1.41.59.51 0 1.02-.2 1.41-.59l7.78-7.78 2.81-2.81c.8-.78.8-2.07 0-2.86zM5.41 20L4 18.59l7.72-7.72 1.47 1.35L5.41 20z\"/>\n",
              "  </svg>\n",
              "      </button>\n",
              "      \n",
              "  <style>\n",
              "    .colab-df-container {\n",
              "      display:flex;\n",
              "      flex-wrap:wrap;\n",
              "      gap: 12px;\n",
              "    }\n",
              "\n",
              "    .colab-df-convert {\n",
              "      background-color: #E8F0FE;\n",
              "      border: none;\n",
              "      border-radius: 50%;\n",
              "      cursor: pointer;\n",
              "      display: none;\n",
              "      fill: #1967D2;\n",
              "      height: 32px;\n",
              "      padding: 0 0 0 0;\n",
              "      width: 32px;\n",
              "    }\n",
              "\n",
              "    .colab-df-convert:hover {\n",
              "      background-color: #E2EBFA;\n",
              "      box-shadow: 0px 1px 2px rgba(60, 64, 67, 0.3), 0px 1px 3px 1px rgba(60, 64, 67, 0.15);\n",
              "      fill: #174EA6;\n",
              "    }\n",
              "\n",
              "    [theme=dark] .colab-df-convert {\n",
              "      background-color: #3B4455;\n",
              "      fill: #D2E3FC;\n",
              "    }\n",
              "\n",
              "    [theme=dark] .colab-df-convert:hover {\n",
              "      background-color: #434B5C;\n",
              "      box-shadow: 0px 1px 3px 1px rgba(0, 0, 0, 0.15);\n",
              "      filter: drop-shadow(0px 1px 2px rgba(0, 0, 0, 0.3));\n",
              "      fill: #FFFFFF;\n",
              "    }\n",
              "  </style>\n",
              "\n",
              "      <script>\n",
              "        const buttonEl =\n",
              "          document.querySelector('#df-7cc352ea-ae81-4c57-91f6-3b3abb18624f button.colab-df-convert');\n",
              "        buttonEl.style.display =\n",
              "          google.colab.kernel.accessAllowed ? 'block' : 'none';\n",
              "\n",
              "        async function convertToInteractive(key) {\n",
              "          const element = document.querySelector('#df-7cc352ea-ae81-4c57-91f6-3b3abb18624f');\n",
              "          const dataTable =\n",
              "            await google.colab.kernel.invokeFunction('convertToInteractive',\n",
              "                                                     [key], {});\n",
              "          if (!dataTable) return;\n",
              "\n",
              "          const docLinkHtml = 'Like what you see? Visit the ' +\n",
              "            '<a target=\"_blank\" href=https://colab.research.google.com/notebooks/data_table.ipynb>data table notebook</a>'\n",
              "            + ' to learn more about interactive tables.';\n",
              "          element.innerHTML = '';\n",
              "          dataTable['output_type'] = 'display_data';\n",
              "          await google.colab.output.renderOutput(dataTable, element);\n",
              "          const docLink = document.createElement('div');\n",
              "          docLink.innerHTML = docLinkHtml;\n",
              "          element.appendChild(docLink);\n",
              "        }\n",
              "      </script>\n",
              "    </div>\n",
              "  </div>\n",
              "  "
            ]
          },
          "metadata": {},
          "execution_count": 18
        }
      ]
    },
    {
      "cell_type": "code",
      "source": [
        "# mutual information\n",
        "mi = mutual_info_classif(X_train, y_train)\n",
        "mi"
      ],
      "metadata": {
        "colab": {
          "base_uri": "https://localhost:8080/"
        },
        "id": "jSkScKR2B4d8",
        "outputId": "c7124701-853c-476b-de7c-32f788209e31"
      },
      "execution_count": 19,
      "outputs": [
        {
          "output_type": "execute_result",
          "data": {
            "text/plain": [
              "array([0.25927543, 0.1818165 , 0.12006444, 0.25280528, 0.33822752,\n",
              "       0.30971763, 0.18051434, 0.24110816, 0.14153398, 0.1713119 ,\n",
              "       0.04554586])"
            ]
          },
          "metadata": {},
          "execution_count": 19
        }
      ]
    },
    {
      "cell_type": "code",
      "source": [
        "mi = pd.Series(mi)\n",
        "mi.index = X_train.columns\n",
        "mi.sort_values(ascending=False).plot.bar(figsize=(5, 5))\n",
        "plt.ylabel('Mutual Information')"
      ],
      "metadata": {
        "colab": {
          "base_uri": "https://localhost:8080/",
          "height": 395
        },
        "id": "q_SenlJ_Fakx",
        "outputId": "c016c2c3-894b-49c9-cfb3-f9abbc9deb31"
      },
      "execution_count": 20,
      "outputs": [
        {
          "output_type": "execute_result",
          "data": {
            "text/plain": [
              "Text(0, 0.5, 'Mutual Information')"
            ]
          },
          "metadata": {},
          "execution_count": 20
        },
        {
          "output_type": "display_data",
          "data": {
            "text/plain": [
              "<Figure size 360x360 with 1 Axes>"
            ],
            "image/png": "[encoded data removed]"
          },
          "metadata": {
            "needs_background": "light"
          }
        }
      ]
    },
    {
      "cell_type": "markdown",
      "source": [
        "## import data untuk test"
      ],
      "metadata": {
        "id": "9ITlzqflUwdK"
      }
    },
    {
      "cell_type": "code",
      "source": [
        "url_test = 'https://raw.githubusercontent.com/ramadhanbay/kuliah/main/dataset/cars_test_new.csv'\n",
        "data_test = pd.read_csv(url_test, low_memory=False)\n",
        "data_test.head(5)"
      ],
      "metadata": {
        "colab": {
          "base_uri": "https://localhost:8080/",
          "height": 250
        },
        "id": "N5lBsjCiU6Sw",
        "outputId": "21921745-7a4b-45cc-a351-3d16946e5b9e"
      },
      "execution_count": 21,
      "outputs": [
        {
          "output_type": "execute_result",
          "data": {
            "text/plain": [
              "      id                                        title        band  \\\n",
              "0  42431                2014 BMW 320i 2.0 Sport Sedan         BMW   \n",
              "1  24089  2015 Mitsubishi Pajero Sport 2.5 Exceed SUV  Mitsubishi   \n",
              "2  33485             2016 Daihatsu Gran Max 1.3 D Van    Daihatsu   \n",
              "3  38431                  2012 Honda CR-V 2.4 2.4 SUV       Honda   \n",
              "4  75566             2016 Toyota Fortuner 2.4 VRZ SUV      Toyota   \n",
              "\n",
              "          model variant  fuelType bodytype tramsmission seating  year  milage  \\\n",
              "0          320i   Sport  Pertamax    Sedan    Automatic       5  2014   32500   \n",
              "1  Pajero Sport  Exceed     Solar      SUV    Automatic       7  2015   41000   \n",
              "2      Gran Max       D  Pertamax      Van       Manual       8  2016   58000   \n",
              "3          CR-V     2.4  Pertamax      SUV    Automatic       5  2012   80000   \n",
              "4      Fortuner     VRZ     Solar      SUV    Automatic       7  2016   52000   \n",
              "\n",
              "    color                                              image          place  \\\n",
              "0   Putih  https://img3.icarcdn.com/0782846/thumb-l_used-...      Tangerang   \n",
              "1   Putih  https://img2.icarcdn.com/3144016/thumb-l_used-...         Gresik   \n",
              "2  Silver  https://img1.icarcdn.com/7813926/thumb-l_used-...         Blitar   \n",
              "3  Silver  https://img3.icarcdn.com/5514556/thumb-l_used-...  Jakarta Pusat   \n",
              "4   Putih  https://img4.icarcdn.com/9025945/thumb-l_used-...         Bekasi   \n",
              "\n",
              "       price  \n",
              "0  365000000  \n",
              "1  305000000  \n",
              "2  102500000  \n",
              "3  148000000  \n",
              "4  410000000  "
            ],
            "text/html": [
              "\n",
              "  <div id=\"df-b235c8ab-7dd7-4bf7-83a9-ef81797520f6\">\n",
              "    <div class=\"colab-df-container\">\n",
              "      <div>\n",
              "<style scoped>\n",
              "    .dataframe tbody tr th:only-of-type {\n",
              "        vertical-align: middle;\n",
              "    }\n",
              "\n",
              "    .dataframe tbody tr th {\n",
              "        vertical-align: top;\n",
              "    }\n",
              "\n",
              "    .dataframe thead th {\n",
              "        text-align: right;\n",
              "    }\n",
              "</style>\n",
              "<table border=\"1\" class=\"dataframe\">\n",
              "  <thead>\n",
              "    <tr style=\"text-align: right;\">\n",
              "      <th></th>\n",
              "      <th>id</th>\n",
              "      <th>title</th>\n",
              "      <th>band</th>\n",
              "      <th>model</th>\n",
              "      <th>variant</th>\n",
              "      <th>fuelType</th>\n",
              "      <th>bodytype</th>\n",
              "      <th>tramsmission</th>\n",
              "      <th>seating</th>\n",
              "      <th>year</th>\n",
              "      <th>milage</th>\n",
              "      <th>color</th>\n",
              "      <th>image</th>\n",
              "      <th>place</th>\n",
              "      <th>price</th>\n",
              "    </tr>\n",
              "  </thead>\n",
              "  <tbody>\n",
              "    <tr>\n",
              "      <th>0</th>\n",
              "      <td>42431</td>\n",
              "      <td>2014 BMW 320i 2.0 Sport Sedan</td>\n",
              "      <td>BMW</td>\n",
              "      <td>320i</td>\n",
              "      <td>Sport</td>\n",
              "      <td>Pertamax</td>\n",
              "      <td>Sedan</td>\n",
              "      <td>Automatic</td>\n",
              "      <td>5</td>\n",
              "      <td>2014</td>\n",
              "      <td>32500</td>\n",
              "      <td>Putih</td>\n",
              "      <td>https://img3.icarcdn.com/0782846/thumb-l_used-...</td>\n",
              "      <td>Tangerang</td>\n",
              "      <td>365000000</td>\n",
              "    </tr>\n",
              "    <tr>\n",
              "      <th>1</th>\n",
              "      <td>24089</td>\n",
              "      <td>2015 Mitsubishi Pajero Sport 2.5 Exceed SUV</td>\n",
              "      <td>Mitsubishi</td>\n",
              "      <td>Pajero Sport</td>\n",
              "      <td>Exceed</td>\n",
              "      <td>Solar</td>\n",
              "      <td>SUV</td>\n",
              "      <td>Automatic</td>\n",
              "      <td>7</td>\n",
              "      <td>2015</td>\n",
              "      <td>41000</td>\n",
              "      <td>Putih</td>\n",
              "      <td>https://img2.icarcdn.com/3144016/thumb-l_used-...</td>\n",
              "      <td>Gresik</td>\n",
              "      <td>305000000</td>\n",
              "    </tr>\n",
              "    <tr>\n",
              "      <th>2</th>\n",
              "      <td>33485</td>\n",
              "      <td>2016 Daihatsu Gran Max 1.3 D Van</td>\n",
              "      <td>Daihatsu</td>\n",
              "      <td>Gran Max</td>\n",
              "      <td>D</td>\n",
              "      <td>Pertamax</td>\n",
              "      <td>Van</td>\n",
              "      <td>Manual</td>\n",
              "      <td>8</td>\n",
              "      <td>2016</td>\n",
              "      <td>58000</td>\n",
              "      <td>Silver</td>\n",
              "      <td>https://img1.icarcdn.com/7813926/thumb-l_used-...</td>\n",
              "      <td>Blitar</td>\n",
              "      <td>102500000</td>\n",
              "    </tr>\n",
              "    <tr>\n",
              "      <th>3</th>\n",
              "      <td>38431</td>\n",
              "      <td>2012 Honda CR-V 2.4 2.4 SUV</td>\n",
              "      <td>Honda</td>\n",
              "      <td>CR-V</td>\n",
              "      <td>2.4</td>\n",
              "      <td>Pertamax</td>\n",
              "      <td>SUV</td>\n",
              "      <td>Automatic</td>\n",
              "      <td>5</td>\n",
              "      <td>2012</td>\n",
              "      <td>80000</td>\n",
              "      <td>Silver</td>\n",
              "      <td>https://img3.icarcdn.com/5514556/thumb-l_used-...</td>\n",
              "      <td>Jakarta Pusat</td>\n",
              "      <td>148000000</td>\n",
              "    </tr>\n",
              "    <tr>\n",
              "      <th>4</th>\n",
              "      <td>75566</td>\n",
              "      <td>2016 Toyota Fortuner 2.4 VRZ SUV</td>\n",
              "      <td>Toyota</td>\n",
              "      <td>Fortuner</td>\n",
              "      <td>VRZ</td>\n",
              "      <td>Solar</td>\n",
              "      <td>SUV</td>\n",
              "      <td>Automatic</td>\n",
              "      <td>7</td>\n",
              "      <td>2016</td>\n",
              "      <td>52000</td>\n",
              "      <td>Putih</td>\n",
              "      <td>https://img4.icarcdn.com/9025945/thumb-l_used-...</td>\n",
              "      <td>Bekasi</td>\n",
              "      <td>410000000</td>\n",
              "    </tr>\n",
              "  </tbody>\n",
              "</table>\n",
              "</div>\n",
              "      <button class=\"colab-df-convert\" onclick=\"convertToInteractive('df-b235c8ab-7dd7-4bf7-83a9-ef81797520f6')\"\n",
              "              title=\"Convert this dataframe to an interactive table.\"\n",
              "              style=\"display:none;\">\n",
              "        \n",
              "  <svg xmlns=\"http://www.w3.org/2000/svg\" height=\"24px\"viewBox=\"0 0 24 24\"\n",
              "       width=\"24px\">\n",
              "    <path d=\"M0 0h24v24H0V0z\" fill=\"none\"/>\n",
              "    <path d=\"M18.56 5.44l.94 2.06.94-2.06 2.06-.94-2.06-.94-.94-2.06-.94 2.06-2.06.94zm-11 1L8.5 8.5l.94-2.06 2.06-.94-2.06-.94L8.5 2.5l-.94 2.06-2.06.94zm10 10l.94 2.06.94-2.06 2.06-.94-2.06-.94-.94-2.06-.94 2.06-2.06.94z\"/><path d=\"M17.41 7.96l-1.37-1.37c-.4-.4-.92-.59-1.43-.59-.52 0-1.04.2-1.43.59L10.3 9.45l-7.72 7.72c-.78.78-.78 2.05 0 2.83L4 21.41c.39.39.9.59 1.41.59.51 0 1.02-.2 1.41-.59l7.78-7.78 2.81-2.81c.8-.78.8-2.07 0-2.86zM5.41 20L4 18.59l7.72-7.72 1.47 1.35L5.41 20z\"/>\n",
              "  </svg>\n",
              "      </button>\n",
              "      \n",
              "  <style>\n",
              "    .colab-df-container {\n",
              "      display:flex;\n",
              "      flex-wrap:wrap;\n",
              "      gap: 12px;\n",
              "    }\n",
              "\n",
              "    .colab-df-convert {\n",
              "      background-color: #E8F0FE;\n",
              "      border: none;\n",
              "      border-radius: 50%;\n",
              "      cursor: pointer;\n",
              "      display: none;\n",
              "      fill: #1967D2;\n",
              "      height: 32px;\n",
              "      padding: 0 0 0 0;\n",
              "      width: 32px;\n",
              "    }\n",
              "\n",
              "    .colab-df-convert:hover {\n",
              "      background-color: #E2EBFA;\n",
              "      box-shadow: 0px 1px 2px rgba(60, 64, 67, 0.3), 0px 1px 3px 1px rgba(60, 64, 67, 0.15);\n",
              "      fill: #174EA6;\n",
              "    }\n",
              "\n",
              "    [theme=dark] .colab-df-convert {\n",
              "      background-color: #3B4455;\n",
              "      fill: #D2E3FC;\n",
              "    }\n",
              "\n",
              "    [theme=dark] .colab-df-convert:hover {\n",
              "      background-color: #434B5C;\n",
              "      box-shadow: 0px 1px 3px 1px rgba(0, 0, 0, 0.15);\n",
              "      filter: drop-shadow(0px 1px 2px rgba(0, 0, 0, 0.3));\n",
              "      fill: #FFFFFF;\n",
              "    }\n",
              "  </style>\n",
              "\n",
              "      <script>\n",
              "        const buttonEl =\n",
              "          document.querySelector('#df-b235c8ab-7dd7-4bf7-83a9-ef81797520f6 button.colab-df-convert');\n",
              "        buttonEl.style.display =\n",
              "          google.colab.kernel.accessAllowed ? 'block' : 'none';\n",
              "\n",
              "        async function convertToInteractive(key) {\n",
              "          const element = document.querySelector('#df-b235c8ab-7dd7-4bf7-83a9-ef81797520f6');\n",
              "          const dataTable =\n",
              "            await google.colab.kernel.invokeFunction('convertToInteractive',\n",
              "                                                     [key], {});\n",
              "          if (!dataTable) return;\n",
              "\n",
              "          const docLinkHtml = 'Like what you see? Visit the ' +\n",
              "            '<a target=\"_blank\" href=https://colab.research.google.com/notebooks/data_table.ipynb>data table notebook</a>'\n",
              "            + ' to learn more about interactive tables.';\n",
              "          element.innerHTML = '';\n",
              "          dataTable['output_type'] = 'display_data';\n",
              "          await google.colab.output.renderOutput(dataTable, element);\n",
              "          const docLink = document.createElement('div');\n",
              "          docLink.innerHTML = docLinkHtml;\n",
              "          element.appendChild(docLink);\n",
              "        }\n",
              "      </script>\n",
              "    </div>\n",
              "  </div>\n",
              "  "
            ]
          },
          "metadata": {},
          "execution_count": 21
        }
      ]
    },
    {
      "cell_type": "code",
      "source": [
        "# drop unnecessary columns, these columns won't be useful in analysis and prediction\n",
        "data_test = data_test.drop(['id','title','image'], axis=1)\n",
        "print('The shape of our features is:', data_test.shape)"
      ],
      "metadata": {
        "colab": {
          "base_uri": "https://localhost:8080/"
        },
        "id": "K-vly0DBsSJp",
        "outputId": "caf1ba9d-2eea-42e8-e0a8-094741a8b514"
      },
      "execution_count": 25,
      "outputs": [
        {
          "output_type": "stream",
          "name": "stdout",
          "text": [
            "The shape of our features is: (4000, 12)\n"
          ]
        }
      ]
    },
    {
      "cell_type": "code",
      "source": [
        "data_test.info()"
      ],
      "metadata": {
        "colab": {
          "base_uri": "https://localhost:8080/"
        },
        "id": "bu0NPDdhOwwB",
        "outputId": "3a1b9390-d9b4-4564-df44-e2913603633d"
      },
      "execution_count": 27,
      "outputs": [
        {
          "output_type": "stream",
          "name": "stdout",
          "text": [
            "<class 'pandas.core.frame.DataFrame'>\n",
            "RangeIndex: 4000 entries, 0 to 3999\n",
            "Data columns (total 12 columns):\n",
            " #   Column        Non-Null Count  Dtype \n",
            "---  ------        --------------  ----- \n",
            " 0   band          4000 non-null   object\n",
            " 1   model         4000 non-null   object\n",
            " 2   variant       3914 non-null   object\n",
            " 3   fuelType      4000 non-null   object\n",
            " 4   bodytype      3990 non-null   object\n",
            " 5   tramsmission  4000 non-null   object\n",
            " 6   seating       4000 non-null   object\n",
            " 7   year          4000 non-null   int64 \n",
            " 8   milage        4000 non-null   int64 \n",
            " 9   color         4000 non-null   object\n",
            " 10  place         4000 non-null   object\n",
            " 11  price         4000 non-null   int64 \n",
            "dtypes: int64(3), object(9)\n",
            "memory usage: 375.1+ KB\n"
          ]
        }
      ]
    },
    {
      "cell_type": "code",
      "source": [
        "data_test.isnull().sum()"
      ],
      "metadata": {
        "colab": {
          "base_uri": "https://localhost:8080/"
        },
        "id": "Cwz6_E5aO5Y-",
        "outputId": "a1b96213-f505-4742-93ca-178145fb8760"
      },
      "execution_count": 28,
      "outputs": [
        {
          "output_type": "execute_result",
          "data": {
            "text/plain": [
              "band             0\n",
              "model            0\n",
              "variant         86\n",
              "fuelType         0\n",
              "bodytype        10\n",
              "tramsmission     0\n",
              "seating          0\n",
              "year             0\n",
              "milage           0\n",
              "color            0\n",
              "place            0\n",
              "price            0\n",
              "dtype: int64"
            ]
          },
          "metadata": {},
          "execution_count": 28
        }
      ]
    }
  ]
}